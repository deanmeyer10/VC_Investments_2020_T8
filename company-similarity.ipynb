{
 "cells": [
  {
   "cell_type": "code",
   "execution_count": 40,
   "metadata": {},
   "outputs": [
    {
     "name": "stdout",
     "output_type": "stream",
     "text": [
      "The autoreload extension is already loaded. To reload it, use:\n",
      "  %reload_ext autoreload\n"
     ]
    }
   ],
   "source": [
    "%load_ext autoreload\n",
    "%autoreload 2\n",
    "\n",
    "import pandas as pd\n",
    "import numpy as np\n",
    "import matplotlib.pyplot as plt\n",
    "import seaborn as sns\n",
    "from torch import nn\n",
    "\n",
    "\n",
    "\n",
    "from sentence_transformers import SentenceTransformer, util"
   ]
  },
  {
   "cell_type": "code",
   "execution_count": 41,
   "metadata": {},
   "outputs": [],
   "source": [
    "model = SentenceTransformer('stsb-roberta-large')"
   ]
  },
  {
   "cell_type": "code",
   "execution_count": 42,
   "metadata": {},
   "outputs": [
    {
     "data": {
      "text/plain": [
       "torch.Size([1, 1024])"
      ]
     },
     "execution_count": 42,
     "metadata": {},
     "output_type": "execute_result"
    }
   ],
   "source": [
    "\n",
    "test_descriptions = [\"Provider of an artificial intelligence platform designed to help organizations create large-scale, real-time customizable deep learning systems. The company's platform packages research on generative models and neural architecture search to deal with noisy or incomplete data and then finds the best neural network that models the specific dataset and use-case while also handling setting up of data pipelines, scheduled retraining of models from new data, enabling companies of all sizes, to easily and effortlessly embed cutting-edge deep learning models into their business processes, or customer experiences.\",\n",
    "                     \"Developer of an enterprise AI platform designed to accelerate data science by automating the end-to-end journey from data to value. The company's platform democratizes data science with end-to-end automation for building, deploying, and managing machine learning models, and maximizes business value by delivering AI at scale and continuously optimizing performance over time, thereby allowing clients to drive better business outcomes by deploying trusted AI applications within their organizations. \",\n",
    "                     \"Developer of artificial intelligence (AI) medical imaging platform designed to flag abnormalities as they enter the radiology worklist. The company's platform detect and pinpoint critical anomalies for radiologists through deep learning and AI algorithms that analyze medical images and patient data, enabling radiologists to produce accurate scan anomaly detection.\",\n",
    "                     \"Provider of talent management services dedicated to helping organizations navigate change and transform their workforce. The company's platform uses artificial intelligence and machine learning to assess the workforce's knowledge, qualifications and skills as well as training services, thus enabling enterprises and Government agencies to retrain, recruit and retain workers faster and more accurately.\", \n",
    "                     \"Provider of a genome editing biotechnology platform intended to offer products and services to academia, biotechnology and pharmaceutical companies. The company's platform aims to translate genome editing technologies into novel therapeutics for genetic diseases and cancer, enabling drug discovery companies to conduct high-throughput genome screening and detection of functional big data in biological contexts.\",\n",
    "                     \"Operator of a biotechnology company focused on developing precision medicines for genetically defined neurological and immunological diseases. The company leverages recent advances in human genetics, combined with their state-of-the-art artificial intelligence (AI)-enabled drug discovery and biomarker platforms, to advance therapeutics for devastating diseases, providing patients with the right medicines suffering from genetic disorders.\"\n",
    "]\n",
    "\n",
    "test1 = [\"Developer of an enterprise AI platform designed to accelerate data science by automating the end-to-end journey from data to value. The company's platform democratizes data science with end-to-end automation for building, deploying, and managing machine learning models, and maximizes business value by delivering AI at scale and continuously optimizing performance over time, thereby allowing clients to drive better business outcomes by deploying trusted AI applications within their organizations. \"]\n",
    "#Compute embedding for list\n",
    "embedding1 = model.encode(test_descriptions, convert_to_tensor=True)\n",
    "embedding_test1 = model.encode(test1, convert_to_tensor=True)\n",
    "embedding_test1.shape"
   ]
  },
  {
   "cell_type": "code",
   "execution_count": 43,
   "metadata": {},
   "outputs": [
    {
     "name": "stdout",
     "output_type": "stream",
     "text": [
      "tensor([[0.7061, 1.0000, 0.5215, 0.6263, 0.5047, 0.5612]])\n"
     ]
    },
    {
     "data": {
      "text/plain": [
       "[{'index': 0, 'score': tensor(0.7061)},\n",
       " {'index': 3, 'score': tensor(0.6263)},\n",
       " {'index': 5, 'score': tensor(0.5612)},\n",
       " {'index': 2, 'score': tensor(0.5215)},\n",
       " {'index': 4, 'score': tensor(0.5047)},\n",
       " {'index': 2, 'score': tensor(0.5612)}]"
      ]
     },
     "execution_count": 43,
     "metadata": {},
     "output_type": "execute_result"
    }
   ],
   "source": [
    "#Compute cosine-similarits\n",
    "cosine_scores = util.pytorch_cos_sim(embedding_test1, embedding1)\n",
    "print(cosine_scores)\n",
    "pairs.append({'index': 2, 'score': cosine_scores[0][5]})\n",
    "pairs\n",
    "\n"
   ]
  },
  {
   "cell_type": "code",
   "execution_count": 44,
   "metadata": {},
   "outputs": [
    {
     "ename": "TypeError",
     "evalue": "_any() missing 1 required keyword-only argument: 'where'",
     "output_type": "error",
     "traceback": [
      "\u001b[0;31m--\u001b[0m",
      "\u001b[0;31mTypeError\u001b[0mTraceback (most recent call last)",
      "\u001b[0;32m<ipython-input-44-a4895fb3f818>\u001b[0m in \u001b[0;36m<module>\u001b[0;34m\u001b[0m\n\u001b[0;32m----> 1\u001b[0;31m \u001b[0msns\u001b[0m\u001b[0;34m.\u001b[0m\u001b[0mheatmap\u001b[0m\u001b[0;34m(\u001b[0m\u001b[0mcosine_scores\u001b[0m\u001b[0;34m,\u001b[0m \u001b[0mannot\u001b[0m\u001b[0;34m=\u001b[0m\u001b[0;32mTrue\u001b[0m\u001b[0;34m)\u001b[0m\u001b[0;34m;\u001b[0m\u001b[0;34m\u001b[0m\u001b[0;34m\u001b[0m\u001b[0m\n\u001b[0m",
      "\u001b[0;32m~/miniconda/envs/vc-env/lib/python3.8/site-packages/seaborn/_decorators.py\u001b[0m in \u001b[0;36minner_f\u001b[0;34m(*args, **kwargs)\u001b[0m\n",
      "\u001b[0;32m~/miniconda/envs/vc-env/lib/python3.8/site-packages/seaborn/matrix.py\u001b[0m in \u001b[0;36mheatmap\u001b[0;34m(data, vmin, vmax, cmap, center, robust, annot, fmt, annot_kws, linewidths, linecolor, cbar, cbar_kws, cbar_ax, square, xticklabels, yticklabels, mask, ax, **kwargs)\u001b[0m\n",
      "\u001b[0;32m~/miniconda/envs/vc-env/lib/python3.8/site-packages/seaborn/matrix.py\u001b[0m in \u001b[0;36m__init__\u001b[0;34m(self, data, vmin, vmax, cmap, center, robust, annot, fmt, annot_kws, cbar, cbar_kws, xticklabels, yticklabels, mask)\u001b[0m\n",
      "\u001b[0;32m~/miniconda/envs/vc-env/lib/python3.8/site-packages/numpy/ma/core.py\u001b[0m in \u001b[0;36mmasked_where\u001b[0;34m(condition, a, copy)\u001b[0m\n\u001b[1;32m   1936\u001b[0m                          \" (got %s and %s)\" % (cshape, ashape))\n\u001b[1;32m   1937\u001b[0m     \u001b[0;32mif\u001b[0m \u001b[0mhasattr\u001b[0m\u001b[0;34m(\u001b[0m\u001b[0ma\u001b[0m\u001b[0;34m,\u001b[0m \u001b[0;34m'_mask'\u001b[0m\u001b[0;34m)\u001b[0m\u001b[0;34m:\u001b[0m\u001b[0;34m\u001b[0m\u001b[0;34m\u001b[0m\u001b[0m\n\u001b[0;32m-> 1938\u001b[0;31m         \u001b[0mcond\u001b[0m \u001b[0;34m=\u001b[0m \u001b[0mmask_or\u001b[0m\u001b[0;34m(\u001b[0m\u001b[0mcond\u001b[0m\u001b[0;34m,\u001b[0m \u001b[0ma\u001b[0m\u001b[0;34m.\u001b[0m\u001b[0m_mask\u001b[0m\u001b[0;34m)\u001b[0m\u001b[0;34m\u001b[0m\u001b[0;34m\u001b[0m\u001b[0m\n\u001b[0m\u001b[1;32m   1939\u001b[0m         \u001b[0mcls\u001b[0m \u001b[0;34m=\u001b[0m \u001b[0mtype\u001b[0m\u001b[0;34m(\u001b[0m\u001b[0ma\u001b[0m\u001b[0;34m)\u001b[0m\u001b[0;34m\u001b[0m\u001b[0;34m\u001b[0m\u001b[0m\n\u001b[1;32m   1940\u001b[0m     \u001b[0;32melse\u001b[0m\u001b[0;34m:\u001b[0m\u001b[0;34m\u001b[0m\u001b[0;34m\u001b[0m\u001b[0m\n",
      "\u001b[0;32m~/miniconda/envs/vc-env/lib/python3.8/site-packages/numpy/ma/core.py\u001b[0m in \u001b[0;36m_shrink_mask\u001b[0;34m(m)\u001b[0m\n\u001b[1;32m   1542\u001b[0m     \u001b[0;32mexcept\u001b[0m \u001b[0mAttributeError\u001b[0m\u001b[0;34m:\u001b[0m\u001b[0;34m\u001b[0m\u001b[0;34m\u001b[0m\u001b[0m\n\u001b[1;32m   1543\u001b[0m         \u001b[0;32mreturn\u001b[0m \u001b[0;32mFalse\u001b[0m\u001b[0;34m\u001b[0m\u001b[0;34m\u001b[0m\u001b[0m\n\u001b[0;32m-> 1544\u001b[0;31m \u001b[0;34m\u001b[0m\u001b[0m\n\u001b[0m\u001b[1;32m   1545\u001b[0m \u001b[0;34m\u001b[0m\u001b[0m\n\u001b[1;32m   1546\u001b[0m \u001b[0;32mdef\u001b[0m \u001b[0m_shrink_mask\u001b[0m\u001b[0;34m(\u001b[0m\u001b[0mm\u001b[0m\u001b[0;34m)\u001b[0m\u001b[0;34m:\u001b[0m\u001b[0;34m\u001b[0m\u001b[0;34m\u001b[0m\u001b[0m\n",
      "\u001b[0;31mTypeError\u001b[0m: _any() missing 1 required keyword-only argument: 'where'"
     ]
    }
   ],
   "source": [
    "sns.heatmap(cosine_scores, annot=True);"
   ]
  },
  {
   "cell_type": "code",
   "execution_count": 114,
   "metadata": {},
   "outputs": [
    {
     "data": {
      "text/plain": [
       "[{'index': 0, 'score': tensor(0.7061)},\n",
       " {'index': 3, 'score': tensor(0.6263)},\n",
       " {'index': 5, 'score': tensor(0.5612)},\n",
       " {'index': 2, 'score': tensor(0.5215)},\n",
       " {'index': 4, 'score': tensor(0.5047)}]"
      ]
     },
     "execution_count": 114,
     "metadata": {},
     "output_type": "execute_result"
    }
   ],
   "source": [
    "#Double: Find the pairs with the highest cosine similarity scores\n",
    "# pairs = []\n",
    "# for i in range(len(cosine_scores)-1):\n",
    "#     for j in range(i+1, len(cosine_scores)):\n",
    "#         pairs.append({'index': [i+1, j+1], 'score': cosine_scores[i][j]})\n",
    "\n",
    "# #Sort scores in decreasing order\n",
    "# pairs = sorted(pairs, key=lambda x: x['score'], reverse=True)\n",
    "# pairs\n",
    "# range(len(cosine_scores[0])-1)\n",
    "#sinlge\n",
    "pairs = []\n",
    "for i in range(len(cosine_scores[0]-1)):\n",
    "    pairs.append({'index': i, 'score': cosine_scores[0][i]})\n",
    "\n",
    "# Sort scores in decreasing order\n",
    "pairs = sorted(pairs, key=lambda x: x['score'], reverse=True)\n",
    "\n",
    "pairs\n",
    "del pairs[0]\n",
    "pairs\n"
   ]
  },
  {
   "cell_type": "code",
   "execution_count": 31,
   "metadata": {},
   "outputs": [],
   "source": [
    "from modules.semantics import Semantic"
   ]
  },
  {
   "cell_type": "code",
   "execution_count": 18,
   "metadata": {
    "scrolled": true
   },
   "outputs": [
    {
     "data": {
      "text/html": [
       "<div>\n",
       "<style scoped>\n",
       "    .dataframe tbody tr th:only-of-type {\n",
       "        vertical-align: middle;\n",
       "    }\n",
       "\n",
       "    .dataframe tbody tr th {\n",
       "        vertical-align: top;\n",
       "    }\n",
       "\n",
       "    .dataframe thead th {\n",
       "        text-align: right;\n",
       "    }\n",
       "</style>\n",
       "<table border=\"1\" class=\"dataframe\">\n",
       "  <thead>\n",
       "    <tr style=\"text-align: right;\">\n",
       "      <th></th>\n",
       "      <th>Company Name</th>\n",
       "      <th>Last Financing Deal Type</th>\n",
       "      <th>Last Financing Deal Type 2</th>\n",
       "      <th>Last Financing Size</th>\n",
       "      <th>Last Financing Valuation</th>\n",
       "      <th>Total Raised</th>\n",
       "      <th>Last Financing Date</th>\n",
       "      <th>Primary Industry Group</th>\n",
       "      <th>Primary Industry Sector</th>\n",
       "      <th>All Industries</th>\n",
       "      <th>Verticals</th>\n",
       "      <th>HQ Location</th>\n",
       "      <th>Year Founded</th>\n",
       "      <th>Active Investors</th>\n",
       "      <th>Keywords</th>\n",
       "      <th>Website</th>\n",
       "      <th>Description</th>\n",
       "      <th>Primary Contact</th>\n",
       "      <th>Primary Contact Email</th>\n",
       "    </tr>\n",
       "  </thead>\n",
       "  <tbody>\n",
       "    <tr>\n",
       "      <th>0</th>\n",
       "      <td>100Plus</td>\n",
       "      <td>Seed Round</td>\n",
       "      <td>Seed Round</td>\n",
       "      <td>15.0</td>\n",
       "      <td>NaN</td>\n",
       "      <td>15.00</td>\n",
       "      <td>2020-04-24</td>\n",
       "      <td>Healthcare Devices and Supplies</td>\n",
       "      <td>Healthcare</td>\n",
       "      <td>Diagnostic Equipment*, Electronics (B2C), Medi...</td>\n",
       "      <td>Digital Health, TMT, Wearables &amp; Quantified Self</td>\n",
       "      <td>San Francisco, CA</td>\n",
       "      <td>2016.0</td>\n",
       "      <td>8VC, Ali Partovi, Ammunition Design Group, Ban...</td>\n",
       "      <td>heart monitor, heart monitoring device, remote...</td>\n",
       "      <td>www.100plus.com</td>\n",
       "      <td>Developer of remote patient monitoring platfor...</td>\n",
       "      <td>Ryan Howard</td>\n",
       "      <td>ryan@100plus.com</td>\n",
       "    </tr>\n",
       "    <tr>\n",
       "      <th>1</th>\n",
       "      <td>1upHealth</td>\n",
       "      <td>Early Stage VC</td>\n",
       "      <td>Series A</td>\n",
       "      <td>8.0</td>\n",
       "      <td>30.0</td>\n",
       "      <td>10.35</td>\n",
       "      <td>2020-02-05</td>\n",
       "      <td>Healthcare Technology Systems</td>\n",
       "      <td>Healthcare</td>\n",
       "      <td>Medical Records Systems*, Other Healthcare Ser...</td>\n",
       "      <td>Digital Health, HealthTech, TMT</td>\n",
       "      <td>Boston, MA</td>\n",
       "      <td>2017.0</td>\n",
       "      <td>Advisors.Fund, Boston Children's Hospital, Eni...</td>\n",
       "      <td>clinical hospital data, fhir api platform, hea...</td>\n",
       "      <td>www.1up.health</td>\n",
       "      <td>Developer of a healthcare data platform design...</td>\n",
       "      <td>Ritwik Sahu</td>\n",
       "      <td>rsahu@1up.health</td>\n",
       "    </tr>\n",
       "    <tr>\n",
       "      <th>2</th>\n",
       "      <td>Abacus.AI</td>\n",
       "      <td>Early Stage VC</td>\n",
       "      <td>Series B</td>\n",
       "      <td>22.0</td>\n",
       "      <td>102.0</td>\n",
       "      <td>40.25</td>\n",
       "      <td>2020-10-23</td>\n",
       "      <td>Commercial Services</td>\n",
       "      <td>Business Products and Services (B2B)</td>\n",
       "      <td>Business/Productivity Software, IT Consulting ...</td>\n",
       "      <td>Artificial Intelligence &amp; Machine Learning, Bi...</td>\n",
       "      <td>San Francisco, CA</td>\n",
       "      <td>2019.0</td>\n",
       "      <td>Avichal Garg, Coatue Management, Decibel Partn...</td>\n",
       "      <td>artificial intelligence platform, artificial i...</td>\n",
       "      <td>www.abacus.ai</td>\n",
       "      <td>Provider of an artificial intelligence platfor...</td>\n",
       "      <td>Bindu Reddy</td>\n",
       "      <td>bindu@abacus.ai</td>\n",
       "    </tr>\n",
       "    <tr>\n",
       "      <th>3</th>\n",
       "      <td>Able.</td>\n",
       "      <td>Later Stage VC</td>\n",
       "      <td>Series B</td>\n",
       "      <td>7.0</td>\n",
       "      <td>20.0</td>\n",
       "      <td>11.50</td>\n",
       "      <td>2020-02-10</td>\n",
       "      <td>Software</td>\n",
       "      <td>Information Technology</td>\n",
       "      <td>Business/Productivity Software*, Human Capital...</td>\n",
       "      <td>HR Tech, Mobile, SaaS</td>\n",
       "      <td>Cleveland, OH</td>\n",
       "      <td>2014.0</td>\n",
       "      <td>JumpStart, M25, North Coast Ventures, Ohio Inn...</td>\n",
       "      <td>hiring platform, interview screening, online h...</td>\n",
       "      <td>www.ableteams.com</td>\n",
       "      <td>Developer of a cloud-based onboarding and cand...</td>\n",
       "      <td>Gerald Hetrick</td>\n",
       "      <td>gerald@employstream.com</td>\n",
       "    </tr>\n",
       "    <tr>\n",
       "      <th>4</th>\n",
       "      <td>Abnormal Security</td>\n",
       "      <td>Early Stage VC</td>\n",
       "      <td>Series B</td>\n",
       "      <td>50.0</td>\n",
       "      <td>600.0</td>\n",
       "      <td>74.00</td>\n",
       "      <td>2020-11-18</td>\n",
       "      <td>Software</td>\n",
       "      <td>Information Technology</td>\n",
       "      <td>Network Management Software*</td>\n",
       "      <td>Artificial Intelligence &amp; Machine Learning, Cy...</td>\n",
       "      <td>San Francisco, CA</td>\n",
       "      <td>2018.0</td>\n",
       "      <td>Greylock Partners, Menlo Ventures</td>\n",
       "      <td>business email security, email fraud security,...</td>\n",
       "      <td>www.abnormalsecurity.com</td>\n",
       "      <td>Developer of a cloud email security platform d...</td>\n",
       "      <td>Evan Reiser</td>\n",
       "      <td>evan@abnormalsecurity.com</td>\n",
       "    </tr>\n",
       "  </tbody>\n",
       "</table>\n",
       "</div>"
      ],
      "text/plain": [
       "        Company Name Last Financing Deal Type Last Financing Deal Type 2  \\\n",
       "0            100Plus               Seed Round                 Seed Round   \n",
       "1          1upHealth           Early Stage VC                   Series A   \n",
       "2          Abacus.AI           Early Stage VC                   Series B   \n",
       "3              Able.           Later Stage VC                   Series B   \n",
       "4  Abnormal Security           Early Stage VC                   Series B   \n",
       "\n",
       "   Last Financing Size  Last Financing Valuation  Total Raised  \\\n",
       "0                 15.0                       NaN         15.00   \n",
       "1                  8.0                      30.0         10.35   \n",
       "2                 22.0                     102.0         40.25   \n",
       "3                  7.0                      20.0         11.50   \n",
       "4                 50.0                     600.0         74.00   \n",
       "\n",
       "  Last Financing Date           Primary Industry Group  \\\n",
       "0          2020-04-24  Healthcare Devices and Supplies   \n",
       "1          2020-02-05    Healthcare Technology Systems   \n",
       "2          2020-10-23              Commercial Services   \n",
       "3          2020-02-10                         Software   \n",
       "4          2020-11-18                         Software   \n",
       "\n",
       "                Primary Industry Sector  \\\n",
       "0                            Healthcare   \n",
       "1                            Healthcare   \n",
       "2  Business Products and Services (B2B)   \n",
       "3                Information Technology   \n",
       "4                Information Technology   \n",
       "\n",
       "                                      All Industries  \\\n",
       "0  Diagnostic Equipment*, Electronics (B2C), Medi...   \n",
       "1  Medical Records Systems*, Other Healthcare Ser...   \n",
       "2  Business/Productivity Software, IT Consulting ...   \n",
       "3  Business/Productivity Software*, Human Capital...   \n",
       "4                       Network Management Software*   \n",
       "\n",
       "                                           Verticals        HQ Location  \\\n",
       "0   Digital Health, TMT, Wearables & Quantified Self  San Francisco, CA   \n",
       "1                    Digital Health, HealthTech, TMT         Boston, MA   \n",
       "2  Artificial Intelligence & Machine Learning, Bi...  San Francisco, CA   \n",
       "3                              HR Tech, Mobile, SaaS      Cleveland, OH   \n",
       "4  Artificial Intelligence & Machine Learning, Cy...  San Francisco, CA   \n",
       "\n",
       "   Year Founded                                   Active Investors  \\\n",
       "0        2016.0  8VC, Ali Partovi, Ammunition Design Group, Ban...   \n",
       "1        2017.0  Advisors.Fund, Boston Children's Hospital, Eni...   \n",
       "2        2019.0  Avichal Garg, Coatue Management, Decibel Partn...   \n",
       "3        2014.0  JumpStart, M25, North Coast Ventures, Ohio Inn...   \n",
       "4        2018.0                  Greylock Partners, Menlo Ventures   \n",
       "\n",
       "                                            Keywords  \\\n",
       "0  heart monitor, heart monitoring device, remote...   \n",
       "1  clinical hospital data, fhir api platform, hea...   \n",
       "2  artificial intelligence platform, artificial i...   \n",
       "3  hiring platform, interview screening, online h...   \n",
       "4  business email security, email fraud security,...   \n",
       "\n",
       "                    Website  \\\n",
       "0           www.100plus.com   \n",
       "1            www.1up.health   \n",
       "2             www.abacus.ai   \n",
       "3         www.ableteams.com   \n",
       "4  www.abnormalsecurity.com   \n",
       "\n",
       "                                         Description Primary Contact  \\\n",
       "0  Developer of remote patient monitoring platfor...     Ryan Howard   \n",
       "1  Developer of a healthcare data platform design...     Ritwik Sahu   \n",
       "2  Provider of an artificial intelligence platfor...     Bindu Reddy   \n",
       "3  Developer of a cloud-based onboarding and cand...  Gerald Hetrick   \n",
       "4  Developer of a cloud email security platform d...     Evan Reiser   \n",
       "\n",
       "       Primary Contact Email  \n",
       "0           ryan@100plus.com  \n",
       "1           rsahu@1up.health  \n",
       "2            bindu@abacus.ai  \n",
       "3    gerald@employstream.com  \n",
       "4  evan@abnormalsecurity.com  "
      ]
     },
     "execution_count": 18,
     "metadata": {},
     "output_type": "execute_result"
    }
   ],
   "source": [
    "data = pd.read_excel('Investments2020_.xlsx', engine='openpyxl')\n",
    "data.head()"
   ]
  },
  {
   "cell_type": "code",
   "execution_count": 32,
   "metadata": {},
   "outputs": [],
   "source": [
    "descriptions = data.Description.to_list()"
   ]
  },
  {
   "cell_type": "code",
   "execution_count": 33,
   "metadata": {},
   "outputs": [
    {
     "data": {
      "application/vnd.jupyter.widget-view+json": {
       "model_id": "97515558c6e04f9d823f9839522f4d92",
       "version_major": 2,
       "version_minor": 0
      },
      "text/plain": [
       "Batches:   0%|          | 0/29 [00:00<?, ?it/s]"
      ]
     },
     "metadata": {},
     "output_type": "display_data"
    },
    {
     "name": "stdout",
     "output_type": "stream",
     "text": [
      "CPU times: user 23min 2s, sys: 38.9 s, total: 23min 41s\n",
      "Wall time: 5min 57s\n"
     ]
    }
   ],
   "source": [
    "%%time\n",
    "\n",
    "semantic = Semantic(model, descriptions)"
   ]
  },
  {
   "cell_type": "code",
   "execution_count": 47,
   "metadata": {
    "scrolled": true
   },
   "outputs": [
    {
     "name": "stdout",
     "output_type": "stream",
     "text": [
      "torch.Size([800, 10])\n",
      "[[15, 19, 50, 112, 116, 142, 151, 160, 185, 197, 216, 247, 276, 288, 300, 320, 358, 395, 413, 435, 462, 474, 536, 538, 563, 567, 577, 625, 635, 641, 787, 790], [34, 51, 70, 123, 129, 166, 211, 251, 302, 334, 387, 489, 491, 509, 537, 548, 552, 560, 566, 606, 620, 643, 692, 731, 742, 763], [2, 39, 59, 144, 196, 238, 280, 286, 333, 398, 417, 440, 514, 562, 568, 621, 695, 745, 751, 775], [141, 182, 222, 241, 411, 415, 438, 467, 473, 565, 574, 593, 682, 729], [3, 46, 106, 158, 234, 285, 332, 428, 500, 584, 650, 658, 783], [64, 73, 165, 198, 227, 242, 362, 513, 521, 591, 626, 684, 706], [56, 128, 233, 239, 294, 307, 330, 455, 511, 551, 752, 780], [16, 243, 295, 434, 592, 612, 697, 698, 699, 700]]\n"
     ]
    }
   ],
   "source": [
    "groups = semantic.community_detection(threshold=0.75, init_max_size=10)\n",
    "print(groups)"
   ]
  },
  {
   "cell_type": "code",
   "execution_count": 48,
   "metadata": {
    "scrolled": true
   },
   "outputs": [
    {
     "name": "stdout",
     "output_type": "stream",
     "text": [
      "Developer of spend management software platform designed to give support to growing companies. The company's platform combines expense approvals, physical and virtual cards, bill payments, reporting, and accounting automation into a single, intuitive platform, enabling companies to get full control and visibility into their spending, automate accounting processes and make purchasing painless for employees.\n",
      "\n",
      "Developer of cross-border payments and foreign exchange platform designed to make and receive international payments. The company's platform effortlessly integrates into an ecosystem of the application program interface, products, automation, global networks, and local payment systems to create a scalable tool, enabling clients, suppliers, and institutions to issue and pay invoices in their preferred currency at the mid-market foreign exchange rate.\n",
      "\n",
      "Developer of a procurement management platform designed to streamline operations. The company's platform provides control and visibility into spending operations by organizing purchase requests, automating approval flows, and providing real-time dashboards, it also offers vendor management capabilities like automated onboarding, information management, and a smart contract repository, enabling mid-sized businesses to deploy, manage and scale simple, customizable procurement processes.\n",
      "\n",
      "Developer of a financial application designed to assist micro and small businesses in their cash management. The company's application digitizes the physical record-keeping books by assisting enterprises to record their financial statements and profit management automatically, thereby enabling businesses to easily track overall business performance and better monitor and manage cash flows.\n",
      "\n",
      "Developer of automated accounting software designed to automate the financial workflows of organizations. The company's platform uses artificial intelligence tools to generate real-time overviews of liabilities and missing invoices by connecting their bank accounts, credit cards and online payments, enabling small and medium-sized enterprises to view and manage their accounts and forward their invoices in a secure manner.\n",
      "\n",
      "Developer of a digital energy management platform intended to reduce users' electricity bills and solve all the bureaucracy that exists in this process. The company's platform offers a product that identifies areas within a business where there are inefficiencies, thereby helping small and medium-sized companies with a steeper electricity bill.\n",
      "\n",
      "Developer of a virtual trucking carrier application designed to reduce operating costs for truck drivers. The company's application helps to manage and book loads from brokers and shippers, offer instant payments after load delivery, and access to cheap insurance options, enabling truck owners and operators to strategize their schedule and design a revenue-maximizing driving program.\n",
      "\n",
      "Developer of a web-scale platform designed to simplify the way companies protect, manage and extract value from their data. The company's platform provides distributed storage and consolidates all secondary data and associated management functions on one unified system, enabling enterprises to eliminate mass data fragmentation with ease.\n",
      "\n",
      "Developer of a health information exchange and telemedicine platform designed to help improve the quality of care. The company's platform facilitates frictionless patient care between hospital systems and surrounding post-acute facilities, accelerates reimbursements, automates chart to the bill as well as enable identification, documentation, and tracking of patient diagnosis and outcomes, enabling healthcare systems and skilled nursing facilities to optimize staff allocation and reduce readmissions and bill for off-site acute care and monitoring.\n",
      "\n",
      "Developer of an enterprise-grade data platform designed to streamline the process of preparing visual data. The company's platform uses artificial intelligence and machine learning technology for covering the entire data preparation cycle, from data labeling to automating data ops, to customizing production pipelines, and back to weaving the human-in-the-loop, enabling clients to make their processes faster thus reducing cost.\n",
      "\n",
      "Developer of a financial technology platform intended to modernize payment processes and expense management. The company's platform manages payments and subscriptions with integrated virtual and physical corporate credit cards tied to dynamic limits controlled by centrally managed budgets, thereby enabling businesses to eliminate fraud and wasteful spending.\n",
      "\n",
      "Developer of an artificial intelligence platform intended to offer a range of services including agent on-boarding, quote generation and processing payments to the insurance sector. The company's platform facilitates access to digital distribution, streamlined workflows, open APIs and AI-based analytics suite for an end to end digitization and sales process, enabling insurance industry to increase clarity, efficiency, scalability and cost savings to the entire insurance sales and distribution cycle.\n",
      "\n",
      "Developer of a B2B payment processing platform designed for businesses to own, manage, and monetize their payments. The company's platform uses modular, workflow-driven architecture and real-time interface to track transactions, consolidate disparate payment processor data and underwrite merchant accounts, enabling banks, acquirers, and enterprises to send money anywhere in the world and facilitate push payments over debit card quickly and securely.\n",
      "\n",
      "Developer of a cloud-based payment technology platform designed to offer payment processing, clearing, and settlement services. The company's platform facilitates agency payment services that can be accessed through an application program interface on a per transaction commercial model with no upfront costs, enabling financial institutions and businesses to get reliable and secure access to various payment schemes and bank partnerships.\n",
      "\n",
      "Developer and operator of a cash flow management platform utilizing machine learning to facilitate business payments and credit network solutions. The company leverages deep data analytics for invoice financing offering and a line of credit in order to increase average order volumes (AOV) and improve close rates by offering net terms, enabling SMEs to accelerate cash flow against their outstanding invoices efficiently.\n",
      "\n",
      "Developer of an enterprise platform intended to improve performance by creating a streamlined environment for any application. The company's AI solution optimizes infrastructure and workload performance in real-time, enabling businesses to cut computing costs and increase their revenue.\n",
      "\n",
      "Developer of an AI-based enterprise software designed to automate office work. The company's software employs machine learning to process structured and semi-structured documents, automate data entry, extract key details from invoices, and reconcile compliance-driven data, thereby enabling businesses to streamline complex processes automatically and increase productivity.\n",
      "\n",
      "Developer of an online platform designed to be used for mobile-based payments. The company's online platform is a SaaS layer on top of payment gateways to simplify integration, improve robustness and ease the management of diverse and rapidly evolving payment options, enabling businesses to allow their users to make electronic transactions securely and efficiently.\n",
      "\n",
      "Developer of a full-service digital-only bank platform designed to assist consumers in smartly budgeting, saving and spending. The company's platform allows the opening of a digital account synchronized with the bank which excludes unnecessary bank charges, helps in earning interest and also assists in gaining access to low-interest loans, enabling consumers to save periodically and earn interest for their savings while excluding any physical banking hassle.\n",
      "\n",
      "Developer of a customer interaction platform intended to empower businesses to create streamlined experiences in the last mile of the customer journey. The company's product offers an instant collection of customer documents, e-signatures, e-forms, payments and consent to disclosures along with confirmation of orders and verification of IDs, enabling businesses to complete sales cycles faster and service their customers effortlessly, earning customers' trust and loyalty that translate into higher profits.\n",
      "\n",
      "Developer of an application programming interface (API) payment platform designed to offer card issuing and payment processing services. The company's platform provides a set of controls and configurations designed to meet the needs of on-demand service companies, alternative lenders as well as those looking for payouts for workers, flexible expense management and scalable, secure virtual card transactions, enabling developers and financial institutions to get a simplified way of managing payment programs.\n",
      "\n",
      "Developer of a B2B payments platform designed to provide small businesses with digital payment tools. The company offers digital accounts payable and receivables dashboard that provides a single integrated tool to transfer and receive payments in a faster, easier way, giving oversight and control over cash flow, reducing or eliminating late payment costs, enabling small businesses to better manage their supplier payments, minimizing time and cost while maximizing cash flow.\n",
      "\n",
      "Developer of a mobile application designed to record financial transactions. The company's application helps merchants with simple and reliable means of keeping credit and payments records for their businesses carried out on credit basis as well as digitises their transactions and records payment, enabling clients to reduce the burden of maintaining records and accounting in paper account books.\n",
      "\n",
      "Developer of process automation software designed to build meaningful artificial intelligence that empowers and scales humans. The company's software acts as a router between systems and data by automating repetitive, high-volume tasks and workflows to eliminate denials for no coverage as well as improve cash collections, enabling healthcare organizations to improve efficiency and patient care while reducing costly administrative errors.\n",
      "\n",
      "Developer of a revenue delivery platform designed for B2B SaaS companies to power growth across acquisition, renewals, and expansion. The company's platform allows companies to transform their revenue delivery infrastructure into a strategic growth lever to sell globally with all sales tax, payments, and data compliance guaranteed, thereby helping B2B SaaS companies increase global conversions, reduce churn, stay compliant, and scale up fast.\n",
      "\n",
      "Provider of a global workforce management platform intended to connect companies with a global network of preferred suppliers. The company's cloud-based SaaS platform enables companies to automate payroll, payments, and workforce management, and EOR solutions to hire workers, enabling businesses to streamline the payroll process, eliminate errors, and save operating costs.\n",
      "\n",
      "Provider of a next-generation B2B payment engine designed to use modern internet, block-chain and SaaS technologies to transform and automate B2B payments. The company's engine is a modern payment platform which seamlessly accepts electronic payments through invoices, website, billing systems and mobile applications and routes gateway between multiple payment methods by replacing manual processing of paper checks with associated challenges of tracking, reconciliation and manual labor, enabling enterprises of all sizes to reduce their time to cash, lower cost and improves their operational efficiency.\n",
      "\n",
      "Developer of an online insurance platform designed to democratize insurance by making it universally accessible and affordable for all. The company's platform leverages big data, machine learning, IoT and blockchain to develop a digital and automated claim experience, enabling e-commerce and travel platforms to enhance their customer experience and users to get access to significant cost savings through a contextual and tangible insurance experience to the increasing millennial populations.\n",
      "\n",
      "Developer of an AI-based supply chain platform designed for the healthcare industry. The company's platform digitizes the purchasing, logistics, and accounts payable processes, increasing the productivity of the teams involved in the management of health supplies and automates processes at affordable prices, thereby enabling clients to operate the entire health supply chain with transparency, speed, and low cost.\n",
      "\n",
      "Developer of an online debt servicing platform designed to offer digital debt services. The company's platform uses artificial intelligence that encompasses the full stack of debt servicing which leads to exponential gains in operational effectiveness for companies, financial institutions, and funds of all sizes, enabling clients to get effectiveness and transparency in transactions.\n",
      "\n",
      "Developer of a compliance technology designed for present-day collaboration platforms. The company's platform uses automated detection and workflow to detect risks in what was said or shown in modern digital communications by giving insights, enabling business clients to add consistency, efficiency, and scale to the review and supervise the process and reduce the cost of compliance.\n",
      "\n",
      "Developer of a cross-border payment network intended to provide a seamless transfer of funds between payment systems. The company offers services like remittance processing, mass payouts, virtual accounts, and business payment solutions, thereby enabling wallet providers, technology companies, PSPs, money transfer operators, and banks to make financial services accessible worldwide.\n",
      "\n"
     ]
    }
   ],
   "source": [
    "for x in data.iloc[groups[0]].Description:\n",
    "    print(x)\n",
    "    print()"
   ]
  },
  {
   "cell_type": "code",
   "execution_count": 35,
   "metadata": {},
   "outputs": [],
   "source": [
    "import umap\n",
    "umap_embeddings = umap.UMAP(n_neighbors=15, \n",
    "                            n_components=5, \n",
    "                            metric='cosine').fit_transform(semantic.embeddings)"
   ]
  },
  {
   "cell_type": "code",
   "execution_count": 39,
   "metadata": {
    "scrolled": true
   },
   "outputs": [
    {
     "name": "stderr",
     "output_type": "stream",
     "text": [
      "[autoreload of pyparsing failed: Traceback (most recent call last):\n",
      "  File \"/home/eytan/miniconda/envs/vc-env/lib/python3.8/site-packages/IPython/extensions/autoreload.py\", line 245, in check\n",
      "    superreload(m, reload, self.old_objects)\n",
      "  File \"/home/eytan/miniconda/envs/vc-env/lib/python3.8/site-packages/IPython/extensions/autoreload.py\", line 410, in superreload\n",
      "    update_generic(old_obj, new_obj)\n",
      "  File \"/home/eytan/miniconda/envs/vc-env/lib/python3.8/site-packages/IPython/extensions/autoreload.py\", line 347, in update_generic\n",
      "    update(a, b)\n",
      "  File \"/home/eytan/miniconda/envs/vc-env/lib/python3.8/site-packages/IPython/extensions/autoreload.py\", line 287, in update_class\n",
      "    old_obj = getattr(old, key)\n",
      "  File \"/home/eytan/miniconda/envs/vc-env/lib/python3.8/site-packages/pyparsing.py\", line 6712, in __get__\n",
      "    cls._intern[attrname] = self.fn(cls)\n",
      "  File \"/home/eytan/miniconda/envs/vc-env/lib/python3.8/site-packages/pyparsing.py\", line 6745, in printables\n",
      "    return u''.join(filterfalse(unicode.isspace, cls._get_chars_for_ranges()))\n",
      "  File \"/home/eytan/miniconda/envs/vc-env/lib/python3.8/site-packages/pyparsing.py\", line 6738, in _get_chars_for_ranges\n",
      "    for rr in cc._ranges:\n",
      "AttributeError: type object 'object' has no attribute '_ranges'\n",
      "]\n"
     ]
    },
    {
     "ename": "ValueError",
     "evalue": "numpy.ndarray size changed, may indicate binary incompatibility. Expected 88 from C header, got 80 from PyObject",
     "output_type": "error",
     "traceback": [
      "\u001b[0;31m--\u001b[0m",
      "\u001b[0;31mValueError\u001b[0mTraceback (most recent call last)",
      "\u001b[0;32m<ipython-input-39-64f6458f8c6f>\u001b[0m in \u001b[0;36m<module>\u001b[0;34m\u001b[0m\n\u001b[0;32m----> 1\u001b[0;31m \u001b[0;32mimport\u001b[0m \u001b[0mhdbscan\u001b[0m\u001b[0;34m\u001b[0m\u001b[0;34m\u001b[0m\u001b[0m\n\u001b[0m\u001b[1;32m      2\u001b[0m cluster = hdbscan.HDBSCAN(min_cluster_size=15,\n\u001b[1;32m      3\u001b[0m                           \u001b[0mmetric\u001b[0m\u001b[0;34m=\u001b[0m\u001b[0;34m'euclidean'\u001b[0m\u001b[0;34m,\u001b[0m\u001b[0;34m\u001b[0m\u001b[0;34m\u001b[0m\u001b[0m\n\u001b[1;32m      4\u001b[0m                           cluster_selection_method='eom').fit(umap_embeddings)\n",
      "\u001b[0;32m~/miniconda/envs/vc-env/lib/python3.8/site-packages/hdbscan/__init__.py\u001b[0m in \u001b[0;36m<module>\u001b[0;34m\u001b[0m\n\u001b[0;32m----> 1\u001b[0;31m \u001b[0;32mfrom\u001b[0m \u001b[0;34m.\u001b[0m\u001b[0mhdbscan_\u001b[0m \u001b[0;32mimport\u001b[0m \u001b[0mHDBSCAN\u001b[0m\u001b[0;34m,\u001b[0m \u001b[0mhdbscan\u001b[0m\u001b[0;34m\u001b[0m\u001b[0;34m\u001b[0m\u001b[0m\n\u001b[0m\u001b[1;32m      2\u001b[0m \u001b[0;32mfrom\u001b[0m \u001b[0;34m.\u001b[0m\u001b[0mrobust_single_linkage_\u001b[0m \u001b[0;32mimport\u001b[0m \u001b[0mRobustSingleLinkage\u001b[0m\u001b[0;34m,\u001b[0m \u001b[0mrobust_single_linkage\u001b[0m\u001b[0;34m\u001b[0m\u001b[0;34m\u001b[0m\u001b[0m\n\u001b[1;32m      3\u001b[0m \u001b[0;32mfrom\u001b[0m \u001b[0;34m.\u001b[0m\u001b[0mvalidity\u001b[0m \u001b[0;32mimport\u001b[0m \u001b[0mvalidity_index\u001b[0m\u001b[0;34m\u001b[0m\u001b[0;34m\u001b[0m\u001b[0m\n\u001b[1;32m      4\u001b[0m from .prediction import (approximate_predict,\n\u001b[1;32m      5\u001b[0m                          \u001b[0mmembership_vector\u001b[0m\u001b[0;34m,\u001b[0m\u001b[0;34m\u001b[0m\u001b[0;34m\u001b[0m\u001b[0m\n",
      "\u001b[0;32m~/miniconda/envs/vc-env/lib/python3.8/site-packages/hdbscan/hdbscan_.py\u001b[0m in \u001b[0;36m<module>\u001b[0;34m\u001b[0m\n\u001b[1;32m     19\u001b[0m \u001b[0;32mfrom\u001b[0m \u001b[0mscipy\u001b[0m\u001b[0;34m.\u001b[0m\u001b[0msparse\u001b[0m \u001b[0;32mimport\u001b[0m \u001b[0mcsgraph\u001b[0m\u001b[0;34m\u001b[0m\u001b[0;34m\u001b[0m\u001b[0m\n\u001b[1;32m     20\u001b[0m \u001b[0;34m\u001b[0m\u001b[0m\n\u001b[0;32m---> 21\u001b[0;31m from ._hdbscan_linkage import (single_linkage,\n\u001b[0m\u001b[1;32m     22\u001b[0m                                \u001b[0mmst_linkage_core\u001b[0m\u001b[0;34m,\u001b[0m\u001b[0;34m\u001b[0m\u001b[0;34m\u001b[0m\u001b[0m\n\u001b[1;32m     23\u001b[0m                                \u001b[0mmst_linkage_core_vector\u001b[0m\u001b[0;34m,\u001b[0m\u001b[0;34m\u001b[0m\u001b[0;34m\u001b[0m\u001b[0m\n",
      "\u001b[0;32mhdbscan/_hdbscan_linkage.pyx\u001b[0m in \u001b[0;36minit hdbscan._hdbscan_linkage\u001b[0;34m()\u001b[0m\n",
      "\u001b[0;31mValueError\u001b[0m: numpy.ndarray size changed, may indicate binary incompatibility. Expected 88 from C header, got 80 from PyObject"
     ]
    }
   ],
   "source": [
    "\n",
    "import hdbscan\n",
    "cluster = hdbscan.HDBSCAN(min_cluster_size=15,\n",
    "                          metric='euclidean',                      \n",
    "                          cluster_selection_method='eom').fit(umap_embeddings)"
   ]
  },
  {
   "cell_type": "code",
   "execution_count": null,
   "metadata": {},
   "outputs": [],
   "source": []
  }
 ],
 "metadata": {
  "kernelspec": {
   "display_name": "VC Investments",
   "language": "python",
   "name": "vc-env"
  },
  "language_info": {
   "codemirror_mode": {
    "name": "ipython",
    "version": 3
   },
   "file_extension": ".py",
   "mimetype": "text/x-python",
   "name": "python",
   "nbconvert_exporter": "python",
   "pygments_lexer": "ipython3",
   "version": "3.8.8"
  }
 },
 "nbformat": 4,
 "nbformat_minor": 4
}
