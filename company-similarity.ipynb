{
 "cells": [
  {
   "cell_type": "code",
   "execution_count": 1,
   "metadata": {},
   "outputs": [],
   "source": [
    "%load_ext autoreload\n",
    "%autoreload 2\n",
    "\n",
    "import pandas as pd\n",
    "import numpy as np\n",
    "import matplotlib.pyplot as plt\n",
    "import seaborn as sns\n",
    "from torch import nn\n",
    "\n",
    "\n",
    "\n",
    "from sentence_transformers import SentenceTransformer, util"
   ]
  },
  {
   "cell_type": "code",
   "execution_count": 2,
   "metadata": {},
   "outputs": [],
   "source": [
    "model = SentenceTransformer('stsb-roberta-large')"
   ]
  },
  {
   "cell_type": "code",
   "execution_count": 3,
   "metadata": {},
   "outputs": [
    {
     "data": {
      "text/plain": [
       "torch.Size([6, 1024])"
      ]
     },
     "execution_count": 3,
     "metadata": {},
     "output_type": "execute_result"
    }
   ],
   "source": [
    "# Two lists of sentences\n",
    "test_descriptions = [\"Provider of an artificial intelligence platform designed to help organizations create large-scale, real-time customizable deep learning systems. The company's platform packages research on generative models and neural architecture search to deal with noisy or incomplete data and then finds the best neural network that models the specific dataset and use-case while also handling setting up of data pipelines, scheduled retraining of models from new data, enabling companies of all sizes, to easily and effortlessly embed cutting-edge deep learning models into their business processes, or customer experiences.\",\n",
    "                     \"Developer of an enterprise AI platform designed to accelerate data science by automating the end-to-end journey from data to value. The company's platform democratizes data science with end-to-end automation for building, deploying, and managing machine learning models, and maximizes business value by delivering AI at scale and continuously optimizing performance over time, thereby allowing clients to drive better business outcomes by deploying trusted AI applications within their organizations. \",\n",
    "                     \"Developer of artificial intelligence (AI) medical imaging platform designed to flag abnormalities as they enter the radiology worklist. The company's platform detect and pinpoint critical anomalies for radiologists through deep learning and AI algorithms that analyze medical images and patient data, enabling radiologists to produce accurate scan anomaly detection.\",\n",
    "                     \"Provider of talent management services dedicated to helping organizations navigate change and transform their workforce. The company's platform uses artificial intelligence and machine learning to assess the workforce's knowledge, qualifications and skills as well as training services, thus enabling enterprises and Government agencies to retrain, recruit and retain workers faster and more accurately.\", \n",
    "                     \"Provider of a genome editing biotechnology platform intended to offer products and services to academia, biotechnology and pharmaceutical companies. The company's platform aims to translate genome editing technologies into novel therapeutics for genetic diseases and cancer, enabling drug discovery companies to conduct high-throughput genome screening and detection of functional big data in biological contexts.\",\n",
    "                     \"Operator of a biotechnology company focused on developing precision medicines for genetically defined neurological and immunological diseases. The company leverages recent advances in human genetics, combined with their state-of-the-art artificial intelligence (AI)-enabled drug discovery and biomarker platforms, to advance therapeutics for devastating diseases, providing patients with the right medicines suffering from genetic disorders.\"\n",
    "]\n",
    "\n",
    "#Compute embedding for list\n",
    "embedding = model.encode(test_descriptions, convert_to_tensor=True)\n",
    "embedding.shape"
   ]
  },
  {
   "cell_type": "code",
   "execution_count": 4,
   "metadata": {},
   "outputs": [
    {
     "name": "stdout",
     "output_type": "stream",
     "text": [
      "tensor([[1.0000, 0.7061, 0.5599, 0.7134, 0.5400, 0.5947],\n",
      "        [0.7061, 1.0000, 0.5215, 0.6263, 0.5047, 0.5612],\n",
      "        [0.5599, 0.5215, 1.0000, 0.5468, 0.6003, 0.7400],\n",
      "        [0.7134, 0.6263, 0.5468, 1.0000, 0.5029, 0.5326],\n",
      "        [0.5400, 0.5047, 0.6003, 0.5029, 1.0000, 0.7762],\n",
      "        [0.5947, 0.5612, 0.7400, 0.5326, 0.7762, 1.0000]])\n",
      "\n"
     ]
    }
   ],
   "source": [
    "#Compute cosine-similarits\n",
    "cosine_scores = util.pytorch_cos_sim(embedding, embedding)\n",
    "print(cosine_scores)\n",
    "print()"
   ]
  },
  {
   "cell_type": "code",
   "execution_count": 5,
   "metadata": {},
   "outputs": [
    {
     "data": {
      "image/png": "[encoded data removed]",
      "text/plain": [
       "<Figure size 432x288 with 2 Axes>"
      ]
     },
     "metadata": {
      "needs_background": "light"
     },
     "output_type": "display_data"
    }
   ],
   "source": [
    "sns.heatmap(cosine_scores, annot=True);"
   ]
  },
  {
   "cell_type": "code",
   "execution_count": 6,
   "metadata": {},
   "outputs": [
    {
     "data": {
      "text/plain": [
       "[{'index': [5, 6], 'score': tensor(0.7762)},\n",
       " {'index': [3, 6], 'score': tensor(0.7400)},\n",
       " {'index': [1, 4], 'score': tensor(0.7134)},\n",
       " {'index': [1, 2], 'score': tensor(0.7061)},\n",
       " {'index': [2, 4], 'score': tensor(0.6263)},\n",
       " {'index': [3, 5], 'score': tensor(0.6003)},\n",
       " {'index': [1, 6], 'score': tensor(0.5947)},\n",
       " {'index': [2, 6], 'score': tensor(0.5612)},\n",
       " {'index': [1, 3], 'score': tensor(0.5599)},\n",
       " {'index': [3, 4], 'score': tensor(0.5468)},\n",
       " {'index': [1, 5], 'score': tensor(0.5400)},\n",
       " {'index': [4, 6], 'score': tensor(0.5326)},\n",
       " {'index': [2, 3], 'score': tensor(0.5215)},\n",
       " {'index': [2, 5], 'score': tensor(0.5047)},\n",
       " {'index': [4, 5], 'score': tensor(0.5029)}]"
      ]
     },
     "execution_count": 6,
     "metadata": {},
     "output_type": "execute_result"
    }
   ],
   "source": [
    "\n",
    "#Find the pairs with the highest cosine similarity scores\n",
    "pairs = []\n",
    "for i in range(len(cosine_scores)-1):\n",
    "    for j in range(i+1, len(cosine_scores)):\n",
    "        pairs.append({'index': [i+1, j+1], 'score': cosine_scores[i][j]})\n",
    "\n",
    "#Sort scores in decreasing order\n",
    "pairs = sorted(pairs, key=lambda x: x['score'], reverse=True)\n",
    "pairs"
   ]
  },
  {
   "cell_type": "code",
   "execution_count": 7,
   "metadata": {},
   "outputs": [],
   "source": [
    "from modules.semantics import community_detection"
   ]
  },
  {
   "cell_type": "code",
   "execution_count": 19,
   "metadata": {
    "scrolled": true
   },
   "outputs": [
    {
     "data": {
      "text/html": [
       "<div>\n",
       "<style scoped>\n",
       "    .dataframe tbody tr th:only-of-type {\n",
       "        vertical-align: middle;\n",
       "    }\n",
       "\n",
       "    .dataframe tbody tr th {\n",
       "        vertical-align: top;\n",
       "    }\n",
       "\n",
       "    .dataframe thead th {\n",
       "        text-align: right;\n",
       "    }\n",
       "</style>\n",
       "<table border=\"1\" class=\"dataframe\">\n",
       "  <thead>\n",
       "    <tr style=\"text-align: right;\">\n",
       "      <th></th>\n",
       "      <th>Company Name</th>\n",
       "      <th>Last Financing Deal Type</th>\n",
       "      <th>Last Financing Deal Type 2</th>\n",
       "      <th>Last Financing Size</th>\n",
       "      <th>Last Financing Valuation</th>\n",
       "      <th>Total Raised</th>\n",
       "      <th>Last Financing Date</th>\n",
       "      <th>Primary Industry Group</th>\n",
       "      <th>Primary Industry Sector</th>\n",
       "      <th>All Industries</th>\n",
       "      <th>Verticals</th>\n",
       "      <th>HQ Location</th>\n",
       "      <th>Year Founded</th>\n",
       "      <th>Active Investors</th>\n",
       "      <th>Keywords</th>\n",
       "      <th>Website</th>\n",
       "      <th>Description</th>\n",
       "      <th>Primary Contact</th>\n",
       "      <th>Primary Contact Email</th>\n",
       "    </tr>\n",
       "  </thead>\n",
       "  <tbody>\n",
       "    <tr>\n",
       "      <th>0</th>\n",
       "      <td>100Plus</td>\n",
       "      <td>Seed Round</td>\n",
       "      <td>Seed Round</td>\n",
       "      <td>15.0</td>\n",
       "      <td>NaN</td>\n",
       "      <td>15.00</td>\n",
       "      <td>2020-04-24</td>\n",
       "      <td>Healthcare Devices and Supplies</td>\n",
       "      <td>Healthcare</td>\n",
       "      <td>Diagnostic Equipment*, Electronics (B2C), Medi...</td>\n",
       "      <td>Digital Health, TMT, Wearables &amp; Quantified Self</td>\n",
       "      <td>San Francisco, CA</td>\n",
       "      <td>2016.0</td>\n",
       "      <td>8VC, Ali Partovi, Ammunition Design Group, Ban...</td>\n",
       "      <td>heart monitor, heart monitoring device, remote...</td>\n",
       "      <td>www.100plus.com</td>\n",
       "      <td>Developer of remote patient monitoring platfor...</td>\n",
       "      <td>Ryan Howard</td>\n",
       "      <td>ryan@100plus.com</td>\n",
       "    </tr>\n",
       "    <tr>\n",
       "      <th>1</th>\n",
       "      <td>1upHealth</td>\n",
       "      <td>Early Stage VC</td>\n",
       "      <td>Series A</td>\n",
       "      <td>8.0</td>\n",
       "      <td>30.0</td>\n",
       "      <td>10.35</td>\n",
       "      <td>2020-02-05</td>\n",
       "      <td>Healthcare Technology Systems</td>\n",
       "      <td>Healthcare</td>\n",
       "      <td>Medical Records Systems*, Other Healthcare Ser...</td>\n",
       "      <td>Digital Health, HealthTech, TMT</td>\n",
       "      <td>Boston, MA</td>\n",
       "      <td>2017.0</td>\n",
       "      <td>Advisors.Fund, Boston Children's Hospital, Eni...</td>\n",
       "      <td>clinical hospital data, fhir api platform, hea...</td>\n",
       "      <td>www.1up.health</td>\n",
       "      <td>Developer of a healthcare data platform design...</td>\n",
       "      <td>Ritwik Sahu</td>\n",
       "      <td>rsahu@1up.health</td>\n",
       "    </tr>\n",
       "    <tr>\n",
       "      <th>2</th>\n",
       "      <td>Abacus.AI</td>\n",
       "      <td>Early Stage VC</td>\n",
       "      <td>Series B</td>\n",
       "      <td>22.0</td>\n",
       "      <td>102.0</td>\n",
       "      <td>40.25</td>\n",
       "      <td>2020-10-23</td>\n",
       "      <td>Commercial Services</td>\n",
       "      <td>Business Products and Services (B2B)</td>\n",
       "      <td>Business/Productivity Software, IT Consulting ...</td>\n",
       "      <td>Artificial Intelligence &amp; Machine Learning, Bi...</td>\n",
       "      <td>San Francisco, CA</td>\n",
       "      <td>2019.0</td>\n",
       "      <td>Avichal Garg, Coatue Management, Decibel Partn...</td>\n",
       "      <td>artificial intelligence platform, artificial i...</td>\n",
       "      <td>www.abacus.ai</td>\n",
       "      <td>Provider of an artificial intelligence platfor...</td>\n",
       "      <td>Bindu Reddy</td>\n",
       "      <td>bindu@abacus.ai</td>\n",
       "    </tr>\n",
       "    <tr>\n",
       "      <th>3</th>\n",
       "      <td>Able.</td>\n",
       "      <td>Later Stage VC</td>\n",
       "      <td>Series B</td>\n",
       "      <td>7.0</td>\n",
       "      <td>20.0</td>\n",
       "      <td>11.50</td>\n",
       "      <td>2020-02-10</td>\n",
       "      <td>Software</td>\n",
       "      <td>Information Technology</td>\n",
       "      <td>Business/Productivity Software*, Human Capital...</td>\n",
       "      <td>HR Tech, Mobile, SaaS</td>\n",
       "      <td>Cleveland, OH</td>\n",
       "      <td>2014.0</td>\n",
       "      <td>JumpStart, M25, North Coast Ventures, Ohio Inn...</td>\n",
       "      <td>hiring platform, interview screening, online h...</td>\n",
       "      <td>www.ableteams.com</td>\n",
       "      <td>Developer of a cloud-based onboarding and cand...</td>\n",
       "      <td>Gerald Hetrick</td>\n",
       "      <td>gerald@employstream.com</td>\n",
       "    </tr>\n",
       "    <tr>\n",
       "      <th>4</th>\n",
       "      <td>Abnormal Security</td>\n",
       "      <td>Early Stage VC</td>\n",
       "      <td>Series B</td>\n",
       "      <td>50.0</td>\n",
       "      <td>600.0</td>\n",
       "      <td>74.00</td>\n",
       "      <td>2020-11-18</td>\n",
       "      <td>Software</td>\n",
       "      <td>Information Technology</td>\n",
       "      <td>Network Management Software*</td>\n",
       "      <td>Artificial Intelligence &amp; Machine Learning, Cy...</td>\n",
       "      <td>San Francisco, CA</td>\n",
       "      <td>2018.0</td>\n",
       "      <td>Greylock Partners, Menlo Ventures</td>\n",
       "      <td>business email security, email fraud security,...</td>\n",
       "      <td>www.abnormalsecurity.com</td>\n",
       "      <td>Developer of a cloud email security platform d...</td>\n",
       "      <td>Evan Reiser</td>\n",
       "      <td>evan@abnormalsecurity.com</td>\n",
       "    </tr>\n",
       "  </tbody>\n",
       "</table>\n",
       "</div>"
      ],
      "text/plain": [
       "        Company Name Last Financing Deal Type Last Financing Deal Type 2  \\\n",
       "0            100Plus               Seed Round                 Seed Round   \n",
       "1          1upHealth           Early Stage VC                   Series A   \n",
       "2          Abacus.AI           Early Stage VC                   Series B   \n",
       "3              Able.           Later Stage VC                   Series B   \n",
       "4  Abnormal Security           Early Stage VC                   Series B   \n",
       "\n",
       "   Last Financing Size  Last Financing Valuation  Total Raised  \\\n",
       "0                 15.0                       NaN         15.00   \n",
       "1                  8.0                      30.0         10.35   \n",
       "2                 22.0                     102.0         40.25   \n",
       "3                  7.0                      20.0         11.50   \n",
       "4                 50.0                     600.0         74.00   \n",
       "\n",
       "  Last Financing Date           Primary Industry Group  \\\n",
       "0          2020-04-24  Healthcare Devices and Supplies   \n",
       "1          2020-02-05    Healthcare Technology Systems   \n",
       "2          2020-10-23              Commercial Services   \n",
       "3          2020-02-10                         Software   \n",
       "4          2020-11-18                         Software   \n",
       "\n",
       "                Primary Industry Sector  \\\n",
       "0                            Healthcare   \n",
       "1                            Healthcare   \n",
       "2  Business Products and Services (B2B)   \n",
       "3                Information Technology   \n",
       "4                Information Technology   \n",
       "\n",
       "                                      All Industries  \\\n",
       "0  Diagnostic Equipment*, Electronics (B2C), Medi...   \n",
       "1  Medical Records Systems*, Other Healthcare Ser...   \n",
       "2  Business/Productivity Software, IT Consulting ...   \n",
       "3  Business/Productivity Software*, Human Capital...   \n",
       "4                       Network Management Software*   \n",
       "\n",
       "                                           Verticals        HQ Location  \\\n",
       "0   Digital Health, TMT, Wearables & Quantified Self  San Francisco, CA   \n",
       "1                    Digital Health, HealthTech, TMT         Boston, MA   \n",
       "2  Artificial Intelligence & Machine Learning, Bi...  San Francisco, CA   \n",
       "3                              HR Tech, Mobile, SaaS      Cleveland, OH   \n",
       "4  Artificial Intelligence & Machine Learning, Cy...  San Francisco, CA   \n",
       "\n",
       "   Year Founded                                   Active Investors  \\\n",
       "0        2016.0  8VC, Ali Partovi, Ammunition Design Group, Ban...   \n",
       "1        2017.0  Advisors.Fund, Boston Children's Hospital, Eni...   \n",
       "2        2019.0  Avichal Garg, Coatue Management, Decibel Partn...   \n",
       "3        2014.0  JumpStart, M25, North Coast Ventures, Ohio Inn...   \n",
       "4        2018.0                  Greylock Partners, Menlo Ventures   \n",
       "\n",
       "                                            Keywords  \\\n",
       "0  heart monitor, heart monitoring device, remote...   \n",
       "1  clinical hospital data, fhir api platform, hea...   \n",
       "2  artificial intelligence platform, artificial i...   \n",
       "3  hiring platform, interview screening, online h...   \n",
       "4  business email security, email fraud security,...   \n",
       "\n",
       "                    Website  \\\n",
       "0           www.100plus.com   \n",
       "1            www.1up.health   \n",
       "2             www.abacus.ai   \n",
       "3         www.ableteams.com   \n",
       "4  www.abnormalsecurity.com   \n",
       "\n",
       "                                         Description Primary Contact  \\\n",
       "0  Developer of remote patient monitoring platfor...     Ryan Howard   \n",
       "1  Developer of a healthcare data platform design...     Ritwik Sahu   \n",
       "2  Provider of an artificial intelligence platfor...     Bindu Reddy   \n",
       "3  Developer of a cloud-based onboarding and cand...  Gerald Hetrick   \n",
       "4  Developer of a cloud email security platform d...     Evan Reiser   \n",
       "\n",
       "       Primary Contact Email  \n",
       "0           ryan@100plus.com  \n",
       "1           rsahu@1up.health  \n",
       "2            bindu@abacus.ai  \n",
       "3    gerald@employstream.com  \n",
       "4  evan@abnormalsecurity.com  "
      ]
     },
     "execution_count": 19,
     "metadata": {},
     "output_type": "execute_result"
    }
   ],
   "source": [
    "data = pd.read_excel('Investments2020_.xlsx', engine='openpyxl')\n",
    "data.head()"
   ]
  },
  {
   "cell_type": "code",
   "execution_count": 23,
   "metadata": {},
   "outputs": [
    {
     "data": {
      "text/plain": [
       "[\"Developer of remote patient monitoring platform and devices intended to offer better care of elderly patients. The company's platform provides monitoring devices like blood pressure cuff, digital weight scale, emergency watch and blood glucose monitor that transmit data to physicians, enabling doctors and healthcare providers to spot signs, remotely monotor whether a person's health is worsening or treatment isn't working and provide the required care.\",\n",
       " \"Developer of a healthcare data platform designed for patients, providers and software developers to aggregate and share medical data. The company's platform tracks patient activity and automates secure data sharing from patients' electronic medical records while aggregating and sharing medical data and wearable device metrics, thus enabling patients to share data from disparate sources and improve healthcare outcomes.\",\n",
       " \"Provider of an artificial intelligence platform designed to help organizations create large-scale, real-time customizable deep learning systems. The company's platform packages research on generative models and neural architecture search to deal with noisy or incomplete data and then finds the best neural network that models the specific dataset and use-case while also handling setting up of data pipelines, scheduled retraining of models from new data, enabling companies of all sizes, to easily and effortlessly embed cutting-edge deep learning models into their business processes, or customer experiences.\"]"
      ]
     },
     "execution_count": 23,
     "metadata": {},
     "output_type": "execute_result"
    }
   ],
   "source": [
    "descriptions = data.Description.to_list()\n",
    "descriptions[:3]"
   ]
  },
  {
   "cell_type": "code",
   "execution_count": 25,
   "metadata": {},
   "outputs": [
    {
     "name": "stdout",
     "output_type": "stream",
     "text": [
      "CPU times: user 24min 10s, sys: 42 s, total: 24min 52s\n",
      "Wall time: 6min 17s\n"
     ]
    },
    {
     "data": {
      "text/plain": [
       "torch.Size([899, 1024])"
      ]
     },
     "execution_count": 25,
     "metadata": {},
     "output_type": "execute_result"
    }
   ],
   "source": [
    "%%time\n",
    "#Compute embedding for list\n",
    "embeddings = model.encode(descriptions, convert_to_tensor=True)\n",
    "embeddings.shape"
   ]
  },
  {
   "cell_type": "code",
   "execution_count": 86,
   "metadata": {
    "scrolled": true
   },
   "outputs": [
    {
     "name": "stdout",
     "output_type": "stream",
     "text": [
      "[[5, 36, 43, 91, 144, 152, 167, 197, 206, 238, 286, 320, 333, 337, 358, 362, 370, 417, 437, 546, 568, 608, 620, 621, 630, 643, 655, 670, 751, 803, 807, 817, 876, 881], [15, 19, 50, 73, 109, 112, 116, 121, 142, 153, 216, 243, 276, 395, 396, 435, 462, 474, 504, 536, 567, 576, 577, 590, 635, 641, 887], [4, 34, 51, 66, 71, 87, 123, 150, 166, 251, 253, 508, 509, 552, 553, 560, 566, 606, 668, 692, 708, 731, 873, 891], [3, 46, 106, 158, 234, 285, 332, 428, 500, 584, 650, 658, 783, 814, 877], [56, 128, 233, 239, 294, 307, 330, 455, 511, 551, 752, 780, 827, 879], [141, 182, 222, 241, 411, 415, 438, 467, 473, 565, 574, 593, 682, 729], [301, 342, 367, 391, 430, 457, 484, 502, 626, 702, 719, 820], [80, 174, 242, 247, 313, 377, 591, 614, 706, 864]]\n"
     ]
    }
   ],
   "source": [
    "groups = community_detection(embeddings, threshold=0.75, init_max_size=10)\n",
    "print(groups)"
   ]
  },
  {
   "cell_type": "code",
   "execution_count": 107,
   "metadata": {},
   "outputs": [
    {
     "name": "stdout",
     "output_type": "stream",
     "text": [
      "Developer of an application performance platform designed to cut through the complexity of data operations. The company's platform offers information integration and data streaming services to permit clients to stream, collect, and process data, build data clusters and view actionable insights from the data as well as optimize workflow operations and capitalize on opportunities that are identified through analytics predictions, enabling clients to proactively manage performance, security, data quality and workflow.\n",
      "\n",
      "Developer of a design-to-code product designed to deliver code fit for enterprise SaaS. The company's product utilizes algorithms to compose coding and facilitates designing websites and developing web-based applications for email and text message-based marketing, enabling developers and designers to convert the design to code automatically.\n",
      "\n",
      "Developer of an application development platform intended to simplify distributed computing. The company's platform is based on an open-source framework that makes writing complex compute-intensive applications easier by simplifying the hardware decisions made underneath, thereby enabling software developers of all skill levels to build applications that run at any scale from a laptop to a data center.\n",
      "\n",
      "Developer of an application intelligence platform designed to offer enterprises control over new and updated applications pushed to production every day. The company's agentless platform is completely automated and works across all environments, from on-premises monolithic applications to hosted cloud-native microservices, and deploys within minutes, empowering teams to manage, operate, and protect applications faster and more efficiently.\n",
      "\n",
      "Developer of an enterprise software designed to create the operations platform for intelligent data classification. The company's software uses a library of automation, human judgements and data-processing blocks, all of which can easily interface with the systems using APIs, enabling businesses to replicate the business processes with efficient workflows.\n",
      "\n",
      "Developer of project management software tools designed to improve the way engineering teams work together. The company's software provides a unique filtering system that gives an unprecedented level of visibility across teams and projects and its workspaces assist to jump across projects, epics, columns and filters in a single keystroke, enabling software engineering teams to plan, build and deploy their products with ease.\n",
      "\n",
      "Provider of an enterprise-ready event streaming platform intended to assist businesses to easily access data as real-time streams. The company's platform simplifies data ingestion, integration and processing on AWS, Azure and GCP clouds, enabling businesses to operate efficiently.\n",
      "\n",
      "Developer of an enterprise-grade data platform designed to streamline the process of preparing visual data. The company's platform uses artificial intelligence and machine learning technology for covering the entire data preparation cycle, from data labeling to automating data ops, to customizing production pipelines, and back to weaving the human-in-the-loop, enabling clients to make their processes faster thus reducing cost.\n",
      "\n",
      "Developer of an application software intended to manage tasks. The company's software assists owners to create, track and audit tasks by converting insights into actual actions and aggregates customer reviews across all channels and locations of a business, enabling clients to manage multiple locations and auto-identify issues.\n",
      "\n",
      "Developer of an automated and intelligent information technology assistant channel designed to assist businesses to run critical cloud applications and devices. The company's channel offers an automated software that offers IT assistance across businesses directly through a real-time chat interface, as well as offers services like additional system monitoring, management and insights, enabling small and medium-sized corporate businesses to run enterprise applications smoothly and work efficiently.\n",
      "\n",
      "Developer of an AI-powered agent that proactively embeds relevant information into employees' daily workflows. The company's product uses machine learning and natural language understanding to immediately respond to customers to resolve simpler issues, automate repetitive routing that agents spend valuable time doing, and provide real-time assistance and insights to agents, enabling companies to decrease resolution time and increase agent productivity.\n",
      "\n",
      "Developer of an enterprise platform intended to improve performance by creating a streamlined environment for any application. The company's AI solution optimizes infrastructure and workload performance in real-time, enabling businesses to cut computing costs and increase their revenue.\n",
      "\n",
      "Developer of a delivery-as-a-service platform created to simplify the software delivery process. The company's platform utilizes machine learning and offers real-time delivery analytics, live notifications, continuous verifications, workflow wizards, and a pipeline builder, thereby enabling software engineers to save time by automating the scripting process.\n",
      "\n",
      "Developer of an open source in-memory data grid platform designed to modernize existing applications. The company's platform has installed clusters that offer operational in-memory computing, enabling companies to manage their data and distribute processing using in-memory storage and parallel execution for breakthrough application speed and scale.\n",
      "\n",
      "Developer of an AI-based enterprise software designed to automate office work. The company's software employs machine learning to process structured and semi-structured documents, automate data entry, extract key details from invoices, and reconcile compliance-driven data, thereby enabling businesses to streamline complex processes automatically and increase productivity.\n",
      "\n",
      "Developer of a cloud-based continuous data platform designed to transform businesses by analyzing data from a variety of sources and types to create actionable insights and artificial intelligence. The company's platform lets enterprises to develop, deploy and manage AI applications at scale, transform AI projects into real-world business outcomes, enabling clients to create business impact through a multitude of real-time use cases such as fraud prevention, self-healing networks and location-based recommendations.\n",
      "\n",
      "Developer of a data engineering platform intended to eliminate complexity through data automation. The company's platform automates the creation and operation of big data workflows from source to consumption both on-premise and in the cloud, thereby enabling businesses to create a commercially available autonomous data engine that requires no coding or specialized skills.\n",
      "\n",
      "Developer of a data training platform designed to offer computer vision machine learning applications. The company's platform offers a visual workflow interface and system of record for the data labeling process, using annotation tools as well as quality control functionality and performance analytics, enabling businesses to reduce model development times and empower data science teams to build machine learning applications.\n",
      "\n",
      "Developer of an application debugging software intended to allow developers to solve production issues faster. The company's software aids developers to define which data is being collected while their app is running and provides the continuous debugging ability and the software could be deployed on various infrastructure like on-premise and cloud, thereby enabling developers to increase their productivity and site reliability.\n",
      "\n",
      "Developer of a managed observability platform intended to take advantage of cloud-native and open-source software. The company's platform ingests logs, metrics, traces and makes them actionable through dashboards, alerts, and queries, enabling users to receive a scalable, well-tested solution that integrates with their existing infrastructure.\n",
      "\n",
      "Developer of a programming language designed for software development. The company's programming language is a visual workflow editor that provides building blocks like triggers, cloud functions, and API integration and end-to-end data visibility for easy debugging, and automatically scale to provide enterprise-grade performance, enabling clients to focus more on their core business logic.\n",
      "\n",
      "Developer of a workflow automation platform designed to facilitate and simplify business management processes. The company's platform helps non-technical teams to create API driven workflows in order to create simple recurring checklists, collaborate around them and track as they are completed, enabling businesses to take control of their processes in a simplified manner.\n",
      "\n",
      "Developer of an infrastructure as code platform intended to deliver cloud engineering. The company's platform uses popular programming languages and communities with a consistent workflow for delivering and securing applications and infrastructure on any cloud, thereby enabling businesses to create modern applications, deploy to any cloud, and manage cloud environments.\n",
      "\n",
      "Operator of a business intelligence platform intended to simplify the access to information to help organizations optimize their business. The company's platform delivers intuitive enterprise-level business intelligence through an integrated, scalable dashboard and analytic application for all types of business users providing them with modules that can be accessed through a single web-based interface, enabling clients to make better, faster decisions based on the same trusted information.\n",
      "\n",
      "Provider of a file data platform intended to help organizations easily create and manage their file data at scale across on-prem and the cloud with freedom, control and real-time visibility. The company's platform leverages the price and performance of commodity hardware coupled with the technologies of flash, virtualization, and cloud, enabling storage administrators to instantly see usage, activity, and throughput history at any level, pinpoint problems, and manage how storage is used.\n",
      "\n",
      "Provider of an in-memory database platform for applications and services designed for transactional, analytics and hybrid deployments. The company's database platform offers cloud-based services and products that are used by developers and enterprise customers for real-time analytics, high-volume transactions, in-app social functionality, application job management and caching that reduces application complexity, simplifies development, accelerates time to market, providing clients with unprecedented flexibility with its visionary data structures and modules.\n",
      "\n",
      "Operator of an online programming and computing platform intended to make coding accessible. The company's platform offers a simple and powerful tool with features like In-browser IDE to code in multiple languages, real-time collaboration, among others, enabling developers to build, deploy, save and share codes easily on the internet.\n",
      "\n",
      "Developer of an online error tracking and debugging platform designed to help engineering teams to build software quickly and painlessly. The company's product features proactive triaging, root cause analysis, data encryption and third-party software support and integrations among others, enabling developers to identify, prioritize and resolve coding errors easily.\n",
      "\n",
      "Developer of an open-source application framework designed to offer the fastest way to build and deploy data apps. The company's framework helps data scientists and machine learning engineers to create performant applications in a few hours, thereby enabling businesses to create custom applications and interact with the data in their models\n",
      "\n",
      "Developer of a general automation platform designed to build and maintain enterprise-wide integrations. The company's platform automates complex processes through a powerful, flexible portal and can connect the entire cloud stack using APIs, enabling developers and IT professionals to use the company's products as a centralized platform without devoting extensive engineering resources to the projects.\n",
      "\n",
      "Developer of a server less cloud platform designed to facilitate application flow orchestration. The company's platform provides a declarative API and a set of tools to define event flows and functions that compose modern applications, enabling organizations to build enterprise-grade applications that span multiple cloud and data center environments.\n",
      "\n",
      "Developer of a multi-language cloud platform intended to specialize in computer language engineering and corresponding software tools. The company's platform offers language engineering, modeling and diagramming, automated provisioning, vs code extensions, prebuilt workspaces, code reviews, parallel workspaces and other related services, helping clients to automates setups and focus on a time-effective and workflow.\n",
      "\n",
      "Developer of a secure data-driven integration platform designed to help startups in getting ready for business growth. The company's platform provides APIs to make applications enterprise-ready, with pre-built features and integrations required by IT administrations, enabling startups to integrate their application once and helps it to work everywhere and with all providers.\n",
      "\n",
      "Developer of a conversational AI platform designed to facilitate customer engagement. The company's platform automate and orchestrate intelligent conversations with customers across channels such as web, app, Alexa, Google Assistant, Interactive Voice Response (IVR) and email, enabling enterprises to significantly boost efficiency and growth.\n",
      "\n"
     ]
    },
    {
     "name": "stderr",
     "output_type": "stream",
     "text": [
      "[autoreload of modules.semantics failed: Traceback (most recent call last):\n",
      "  File \"/home/eytan/miniconda/envs/vc-env/lib/python3.8/site-packages/IPython/extensions/autoreload.py\", line 245, in check\n",
      "    superreload(m, reload, self.old_objects)\n",
      "  File \"/home/eytan/miniconda/envs/vc-env/lib/python3.8/site-packages/IPython/extensions/autoreload.py\", line 394, in superreload\n",
      "    module = reload(module)\n",
      "  File \"/home/eytan/miniconda/envs/vc-env/lib/python3.8/imp.py\", line 314, in reload\n",
      "    return importlib.reload(module)\n",
      "  File \"/home/eytan/miniconda/envs/vc-env/lib/python3.8/importlib/__init__.py\", line 169, in reload\n",
      "    _bootstrap._exec(spec, module)\n",
      "  File \"<frozen importlib._bootstrap>\", line 604, in _exec\n",
      "  File \"<frozen importlib._bootstrap_external>\", line 783, in exec_module\n",
      "  File \"<frozen importlib._bootstrap>\", line 219, in _call_with_frames_removed\n",
      "  File \"/home/eytan/Personal/VC_Investments_2020_Trends/modules/semantics.py\", line 66, in <module>\n",
      "    find_topk_related(embedding, k=10)\n",
      "NameError: name 'find_topk_related' is not defined\n",
      "]\n"
     ]
    }
   ],
   "source": [
    "for x in data.iloc[groups[0]].Description:\n",
    "    print(x)\n",
    "    print()"
   ]
  },
  {
   "cell_type": "code",
   "execution_count": null,
   "metadata": {},
   "outputs": [],
   "source": []
  }
 ],
 "metadata": {
  "kernelspec": {
   "display_name": "VC Investments",
   "language": "python",
   "name": "vc-env"
  },
  "language_info": {
   "codemirror_mode": {
    "name": "ipython",
    "version": 3
   },
   "file_extension": ".py",
   "mimetype": "text/x-python",
   "name": "python",
   "nbconvert_exporter": "python",
   "pygments_lexer": "ipython3",
   "version": "3.8.8"
  }
 },
 "nbformat": 4,
 "nbformat_minor": 4
}
